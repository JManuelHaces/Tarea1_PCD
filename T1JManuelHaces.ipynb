{
 "cells": [
  {
   "cell_type": "markdown",
   "metadata": {
    "pycharm": {
     "name": "#%% md\n"
    }
   },
   "source": [
    "# Tarea 1\n",
    "_______\n",
    "Crear un nuevo repositorio en su cuenta de `GitHub` llamado `Tarea1_PCD`. En dicho proyecto añadir un notebook de jupyter que debe contener lo siguiente:\n",
    "\n",
    "1. Un resumen de al menos uno de los siguientes artículos donde se resalta la importancia del despliegue en producción de proyectos de ML:\n",
    "    - https://odsc.medium.com/what-are-mlops-and-why-does-it-matter-8cff060d4067\n",
    "    - https://medium.com/@selfouly/mlops-done-right-47cec1dbfc8d\n",
    "    - https://towardsdatascience.com/a-gentle-introduction-to-mlops-7d64a3e890ff\n",
    "    - https://valohai.com/blog/why-mlops-is-vital-to-your-development-team/\n",
    "    \n",
    "\n",
    "2. El repositorio debe contener al menos 2 `commits` detallados de los cambios hechos en el notebook de jupyter.\n",
    "\n",
    "\n",
    "3. El nombre del archivo debe ser el siguiente T1PrimerNombrePrimerApellido, en mi caso sería T1CristianZapata.\n",
    "\n",
    "4. El archivo debe existir en una rama que se llame `feature-1` adicional a la rama principal `master`.\n",
    "\n",
    "5. La rama `master` debe tener un archivo `README.md` con información acerca del repositorio (¿Qué contiene el repo? ¿Qué ramas existen? ¿Para qué se hizo?)\n",
    "\n",
    "\n",
    "Recuerde el uso de la sintáxis Markdown: [https://www.markdownguide.org/cheat-sheet/](https://www.markdownguide.org/cheat-sheet/)\n",
    "____\n",
    "\n",
    "**ENTREGABLE: SE DEBE SUBIR EL ENLACE DE GITHUB AL REPOSITORIO INDICADO.**\n",
    "**FECHA DE ENTREGA:** Lunes 22 de Agosto a las 19:55\n"
   ]
  },
  {
   "cell_type": "markdown",
   "source": [
    "## Artículo 1:\n",
    "- asas"
   ],
   "metadata": {
    "collapsed": false,
    "pycharm": {
     "name": "#%% md\n"
    }
   }
  },
  {
   "cell_type": "markdown",
   "source": [
    "## Artículo 2:\n",
    "- asas"
   ],
   "metadata": {
    "collapsed": false,
    "pycharm": {
     "name": "#%% md\n"
    }
   }
  },
  {
   "cell_type": "markdown",
   "source": [
    "## Artículo 3:\n",
    "- asas"
   ],
   "metadata": {
    "collapsed": false,
    "pycharm": {
     "name": "#%% md\n"
    }
   }
  },
  {
   "cell_type": "markdown",
   "source": [
    "## Artículo 4:\n",
    "- asas"
   ],
   "metadata": {
    "collapsed": false,
    "pycharm": {
     "name": "#%% md\n"
    }
   }
  },
  {
   "cell_type": "code",
   "execution_count": null,
   "outputs": [],
   "source": [],
   "metadata": {
    "collapsed": false,
    "pycharm": {
     "name": "#%%\n"
    }
   }
  }
 ],
 "metadata": {
  "anaconda-cloud": {},
  "kernelspec": {
   "display_name": "Python 3",
   "language": "python",
   "name": "python3"
  },
  "language_info": {
   "codemirror_mode": {
    "name": "ipython",
    "version": 3
   },
   "file_extension": ".py",
   "mimetype": "text/x-python",
   "name": "python",
   "nbconvert_exporter": "python",
   "pygments_lexer": "ipython3",
   "version": "3.7.6"
  }
 },
 "nbformat": 4,
 "nbformat_minor": 1
}