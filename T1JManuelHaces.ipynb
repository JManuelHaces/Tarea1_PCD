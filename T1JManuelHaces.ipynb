{
 "cells": [
  {
   "cell_type": "markdown",
   "metadata": {
    "pycharm": {
     "name": "#%% md\n"
    }
   },
   "source": [
    "# Tarea 1\n",
    "_______\n",
    "Crear un nuevo repositorio en su cuenta de `GitHub` llamado `Tarea1_PCD`. En dicho proyecto añadir un notebook de jupyter que debe contener lo siguiente:\n",
    "\n",
    "1. Un resumen de al menos uno de los siguientes artículos donde se resalta la importancia del despliegue en producción de proyectos de ML:\n",
    "    - https://odsc.medium.com/what-are-mlops-and-why-does-it-matter-8cff060d4067\n",
    "    - https://medium.com/@selfouly/mlops-done-right-47cec1dbfc8d\n",
    "    - https://towardsdatascience.com/a-gentle-introduction-to-mlops-7d64a3e890ff\n",
    "    - https://valohai.com/blog/why-mlops-is-vital-to-your-development-team/\n",
    "    \n",
    "\n",
    "2. El repositorio debe contener al menos 2 `commits` detallados de los cambios hechos en el notebook de jupyter.\n",
    "\n",
    "\n",
    "3. El nombre del archivo debe ser el siguiente T1PrimerNombrePrimerApellido, en mi caso sería T1CristianZapata.\n",
    "\n",
    "4. El archivo debe existir en una rama que se llame `feature-1` adicional a la rama principal `master`.\n",
    "\n",
    "5. La rama `master` debe tener un archivo `README.md` con información acerca del repositorio (¿Qué contiene el repo? ¿Qué ramas existen? ¿Para qué se hizo?)\n",
    "\n",
    "\n",
    "Recuerde el uso de la sintáxis Markdown: [https://www.markdownguide.org/cheat-sheet/](https://www.markdownguide.org/cheat-sheet/)\n",
    "____\n",
    "\n",
    "**ENTREGABLE: SE DEBE SUBIR EL ENLACE DE GITHUB AL REPOSITORIO INDICADO.**\n",
    "**FECHA DE ENTREGA:** Lunes 22 de Agosto a las 19:55\n"
   ]
  },
  {
   "cell_type": "markdown",
   "metadata": {
    "pycharm": {
     "name": "#%% md\n"
    }
   },
   "source": [
    "## Artículo 1:\n",
    "- El artículo comienza comentando que MLOPS es la nueva cuspide de la industria, esto debido a que la mayoría de las empresas están comenzando a optar por usar modelos de 'Machine Learning' en sus procesos, por lo que se vierón en la necesidad de desarrollar MLOPS.\n",
    "- Así mismo, lo define como el proceso para comunicar lo sucedido en el departamento de datos a cualquier otro y biceversa. Para así poder tener lo mejor de los dos mundos y poder obtener los mejores resultados, es algo asi como, un proceso para 'sistematizar' los resultados y poder usar lo obtenido.\n",
    "- Para poder comenzar a usarlo se necesita discutir y definir una serie de parámetros, como lo es cómo saber que el sistema ya no está funcionando o ya tiene ciertos 'lacks'.\n",
    "\n",
    "\n",
    "En conclusión, es un proceso que genera el puente entre la lógistica/proceso y los datos, para poder llegar a así a un modelo en el cual se tome en cuenta lo mejor de las dos partes y se explote de la mejor manera."
   ]
  },
  {
   "cell_type": "markdown",
   "metadata": {
    "pycharm": {
     "name": "#%% md\n"
    }
   },
   "source": [
    "## Artículo 2:\n",
    "- Este segundo artículo, nos comenta algunos problemas nuevos y soluciones, que se han llegado a lo largo del tiempo que se ha estado implementando esta nueva tecnología.\n",
    "- Dice que una buena práctica es tener un control de los cambios que se hacen usando Git. Así mismo, existene algunas opciones para situaciones en específico, como lo son:\n",
    "    - Así mismo, agrega un 'plug' llamado *DVC*, el cual hace Control de Versión de Datos.\n",
    "    - También existe una manera de seguir el proceso con una web llamada *MLFlow*, la cual nos da seguimiento a los experimentos/pruebas que hacemos con varios modelos, para así, poder tener un control de lo que hemos hecho.\n",
    "- También, comenta lo que sigue después de tener nuestro modelo, para así poder tener un proceso. Nos introduce *Docker*, es un programa que genera una imagén de docker, para poder usar nuestro MLModel en microservicio, a como lo entiendo se puede inerpretar como una API.\n",
    "- Así mismo, se tiene que realizar un pipeline de datos para poder usar nuestro docker y en dado caso de ser necesario, reentrenarlo.\n",
    "\n",
    "\n",
    "El autor termina con una conclusión un tanto ya conocida, nada en este campo tiene un camino fijo, sin embargo con su expertis a podido determinar que este camino e aplicaciones parece ser una muy buena opción. Habría que observar las herramientas y decidir si es de utilidad, además de ver qué nos sirve y que no."
   ]
  },
  {
   "cell_type": "code",
   "execution_count": null,
   "metadata": {
    "pycharm": {
     "name": "#%%\n"
    }
   },
   "outputs": [],
   "source": []
  }
 ],
 "metadata": {
  "anaconda-cloud": {},
  "kernelspec": {
   "display_name": "Python 3 (ipykernel)",
   "language": "python",
   "name": "python3"
  },
  "language_info": {
   "codemirror_mode": {
    "name": "ipython",
    "version": 3
   },
   "file_extension": ".py",
   "mimetype": "text/x-python",
   "name": "python",
   "nbconvert_exporter": "python",
   "pygments_lexer": "ipython3",
   "version": "3.9.12"
  }
 },
 "nbformat": 4,
 "nbformat_minor": 1
}